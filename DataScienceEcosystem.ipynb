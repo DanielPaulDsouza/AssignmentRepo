{
 "cells": [
  {
   "cell_type": "markdown",
   "id": "8857bd33-f2d4-4f25-8bd2-5b7d8604dcf4",
   "metadata": {},
   "source": [
    "# Data Science Tools and Ecosystem"
   ]
  },
  {
   "cell_type": "markdown",
   "id": "cd3b0fec-c40b-44ea-9cf2-e125be5785c6",
   "metadata": {},
   "source": [
    "In this notebook, Data Science Tools and Ecosystem are summarized."
   ]
  },
  {
   "cell_type": "markdown",
   "id": "9618f7e3-09d5-4559-820d-2f9e8bfc9d23",
   "metadata": {},
   "source": [
    "**Objectives:**\n",
    "\n",
    "* List popular languages for Data Science\n",
    "* List commonly used libraries for Data Science\n",
    "* Table with popular open source Data Science tools\n",
    "* Simple arithmetic expression to multiply then add integers\n",
    "* Simple arithmetic expression to convert minutes to hours"
   ]
  },
  {
   "cell_type": "markdown",
   "id": "029408f1-90df-4d6e-9d13-e042678bb956",
   "metadata": {},
   "source": [
    "Some of the popular languages that Data Scientists use are:\n",
    "\n",
    "1. Python\n",
    "2. R\n",
    "3. Scala\n",
    "4. SQL\n",
    "5. Julia"
   ]
  },
  {
   "cell_type": "markdown",
   "id": "74e70a1d-1c56-4f02-b243-fe40da0165b7",
   "metadata": {},
   "source": [
    "Some of the commonly used libraries used by Data Scientists include:\n",
    "\n",
    "1. NumPy\n",
    "2. SciPy\n",
    "3. Pandas\n",
    "4. Matplotlib\n",
    "5. SciKit-Learn"
   ]
  },
  {
   "cell_type": "markdown",
   "id": "31b74cbf-a7f9-485d-8387-bcf81dc10dd9",
   "metadata": {},
   "source": [
    "| Data Science Tools |\n",
    "| ------------------ |\n",
    "| Jupyter Notebook   |\n",
    "| RStudio            |\n",
    "| Apache Sprak       |"
   ]
  },
  {
   "cell_type": "markdown",
   "id": "324ad7b2-709c-4084-857d-1cf36847e7d2",
   "metadata": {},
   "source": [
    "### Below are a few examples of evaluating arithmetic expressions in Python\n",
    "\n",
    "\n",
    "3 + 4 = 7\n",
    "\n",
    "10 / 2 = 5\n",
    "\n",
    "7 * 6 = 42"
   ]
  },
  {
   "cell_type": "code",
   "execution_count": 4,
   "id": "c104bc19-d1d2-4296-8665-539cc1692174",
   "metadata": {},
   "outputs": [
    {
     "data": {
      "text/plain": [
       "17"
      ]
     },
     "execution_count": 4,
     "metadata": {},
     "output_type": "execute_result"
    }
   ],
   "source": [
    "'This a simple arithmetic expression to mutiply then add integers'\n",
    "\n",
    "(3*4)+5"
   ]
  },
  {
   "cell_type": "code",
   "execution_count": 5,
   "id": "1fb2583e-4546-4909-8b14-4f3ab38f2d38",
   "metadata": {},
   "outputs": [
    {
     "data": {
      "text/plain": [
       "3.3333333333333335"
      ]
     },
     "execution_count": 5,
     "metadata": {},
     "output_type": "execute_result"
    }
   ],
   "source": [
    "'This will convert 200 minutes to hours by diving by 60'\n",
    "\n",
    "200/60"
   ]
  },
  {
   "cell_type": "markdown",
   "id": "eb1f2987-6e95-418b-9469-d20afc50c5a0",
   "metadata": {},
   "source": [
    "## Author\n",
    "Daniel Paul Dsouza"
   ]
  },
  {
   "cell_type": "code",
   "execution_count": null,
   "id": "989b19b8-163f-4a30-9610-821f9e595328",
   "metadata": {},
   "outputs": [],
   "source": []
  }
 ],
 "metadata": {
  "kernelspec": {
   "display_name": "Python",
   "language": "python",
   "name": "conda-env-python-py"
  },
  "language_info": {
   "codemirror_mode": {
    "name": "ipython",
    "version": 3
   },
   "file_extension": ".py",
   "mimetype": "text/x-python",
   "name": "python",
   "nbconvert_exporter": "python",
   "pygments_lexer": "ipython3",
   "version": "3.7.12"
  }
 },
 "nbformat": 4,
 "nbformat_minor": 5
}
